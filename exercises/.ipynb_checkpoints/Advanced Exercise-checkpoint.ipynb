{
 "cells": [
  {
   "cell_type": "markdown",
   "metadata": {
    "cell_id": "00001-f9f152cc-d6ad-4741-b838-4c6fab6abbba",
    "deepnote_cell_type": "markdown",
    "tags": []
   },
   "source": [
    "# 02-Advanced: Data analysis\n",
    "For these exercises we are going to do some text and more advanced analysis. To experience some interesting functions and specialised libraries in Python, we will use a dataset from AirBnB to explore some basic text analytics."
   ]
  },
  {
   "cell_type": "markdown",
   "metadata": {
    "cell_id": "00001-70d86720-3538-4f91-8276-9a4e7e3c5da2",
    "deepnote_cell_type": "markdown",
    "tags": []
   },
   "source": [
    "## Text data\n",
    "Often we will need to work with unstructured data like text, images, or audio. To use unstructured data in analyis, we will often need to convert it into something more useable, something more \"quantified\".\n",
    "\n",
    "Let's start easy by loading a `.csv` file containing some text data we plan to analyse. Run the code below to load `reviews_sample.csv`."
   ]
  },
  {
   "cell_type": "code",
   "execution_count": 3,
   "metadata": {
    "cell_id": "00002-1634df66-c1d5-45d5-ab5d-9000f2403efd",
    "deepnote_cell_type": "code",
    "deepnote_to_be_reexecuted": false,
    "execution_millis": 516,
    "execution_start": 1633510549583,
    "source_hash": "9416d4fc",
    "tags": []
   },
   "outputs": [
    {
     "data": {
      "text/html": [
       "<div>\n",
       "<style scoped>\n",
       "    .dataframe tbody tr th:only-of-type {\n",
       "        vertical-align: middle;\n",
       "    }\n",
       "\n",
       "    .dataframe tbody tr th {\n",
       "        vertical-align: top;\n",
       "    }\n",
       "\n",
       "    .dataframe thead th {\n",
       "        text-align: right;\n",
       "    }\n",
       "</style>\n",
       "<table border=\"1\" class=\"dataframe\">\n",
       "  <thead>\n",
       "    <tr style=\"text-align: right;\">\n",
       "      <th></th>\n",
       "      <th>listing_id</th>\n",
       "      <th>id</th>\n",
       "      <th>date</th>\n",
       "      <th>reviewer_id</th>\n",
       "      <th>reviewer_name</th>\n",
       "      <th>comments</th>\n",
       "    </tr>\n",
       "  </thead>\n",
       "  <tbody>\n",
       "    <tr>\n",
       "      <th>0</th>\n",
       "      <td>9709741</td>\n",
       "      <td>109528347</td>\n",
       "      <td>2016-10-22</td>\n",
       "      <td>16329759</td>\n",
       "      <td>Gerrit</td>\n",
       "      <td>Very nice and clean room, we had everything we...</td>\n",
       "    </tr>\n",
       "    <tr>\n",
       "      <th>1</th>\n",
       "      <td>25305896</td>\n",
       "      <td>495585915</td>\n",
       "      <td>2019-07-26</td>\n",
       "      <td>170196997</td>\n",
       "      <td>Grace</td>\n",
       "      <td>Great place to stay for a few nights in London...</td>\n",
       "    </tr>\n",
       "    <tr>\n",
       "      <th>2</th>\n",
       "      <td>26709683</td>\n",
       "      <td>306268165</td>\n",
       "      <td>2018-08-12</td>\n",
       "      <td>15285494</td>\n",
       "      <td>Xiao Zuo</td>\n",
       "      <td>The host is very kind and the place is amazing!</td>\n",
       "    </tr>\n",
       "    <tr>\n",
       "      <th>3</th>\n",
       "      <td>27425883</td>\n",
       "      <td>355242699</td>\n",
       "      <td>2018-12-03</td>\n",
       "      <td>7738609</td>\n",
       "      <td>André</td>\n",
       "      <td>Guests can expect a great hospitality. The stu...</td>\n",
       "    </tr>\n",
       "    <tr>\n",
       "      <th>4</th>\n",
       "      <td>1091147</td>\n",
       "      <td>462433928</td>\n",
       "      <td>2019-06-02</td>\n",
       "      <td>257649113</td>\n",
       "      <td>Santiago</td>\n",
       "      <td>I have a great stay. I recommend Andonis house.</td>\n",
       "    </tr>\n",
       "  </tbody>\n",
       "</table>\n",
       "</div>"
      ],
      "text/plain": [
       "   listing_id         id        date  reviewer_id reviewer_name  \\\n",
       "0     9709741  109528347  2016-10-22     16329759        Gerrit   \n",
       "1    25305896  495585915  2019-07-26    170196997         Grace   \n",
       "2    26709683  306268165  2018-08-12     15285494      Xiao Zuo   \n",
       "3    27425883  355242699  2018-12-03      7738609         André   \n",
       "4     1091147  462433928  2019-06-02    257649113      Santiago   \n",
       "\n",
       "                                            comments  \n",
       "0  Very nice and clean room, we had everything we...  \n",
       "1  Great place to stay for a few nights in London...  \n",
       "2    The host is very kind and the place is amazing!  \n",
       "3  Guests can expect a great hospitality. The stu...  \n",
       "4    I have a great stay. I recommend Andonis house.  "
      ]
     },
     "execution_count": 3,
     "metadata": {},
     "output_type": "execute_result"
    }
   ],
   "source": [
    "import pandas as pd\n",
    "df_reviews = pd.read_csv('../data/reviews_sample.csv')\n",
    "df_reviews.head()"
   ]
  },
  {
   "cell_type": "markdown",
   "metadata": {
    "cell_id": "00003-288e7094-680c-4292-bf1e-b730185e7cba",
    "deepnote_cell_type": "markdown",
    "tags": []
   },
   "source": [
    "### Exercise-01: Cleaning text\n",
    "We want to analyse the `comments` column, but we first need to remove rows with `nan` values in the `comments` column. Use what you learned in basic level notebook (in section of data preparation) to do this below."
   ]
  },
  {
   "cell_type": "code",
   "execution_count": 4,
   "metadata": {
    "cell_id": "00004-4673738a-93e7-4134-ae6e-22998be22e2d",
    "deepnote_cell_type": "code",
    "deepnote_to_be_reexecuted": false,
    "execution_millis": 8,
    "execution_start": 1633510550110,
    "source_hash": "ceb90d56",
    "tags": []
   },
   "outputs": [
    {
     "name": "stdout",
     "output_type": "stream",
     "text": [
      "0\n"
     ]
    }
   ],
   "source": [
    "# (SOLUTION)\n"
   ]
  },
  {
   "cell_type": "markdown",
   "metadata": {
    "cell_id": "00005-93c7f454-b595-40a0-a6c6-c189b129d9bc",
    "deepnote_cell_type": "markdown",
    "tags": []
   },
   "source": [
    "### Exercise-02: Analysing text\n",
    "Now the text data is cleaned, we are going to convert the text to quantities of interest. A common way to do this is to estimate the *sentiment* of the text. There are many ways to analyse sentiment, and here we are going to use the [VADER](https://www.nltk.org/_modules/nltk/sentiment/vader.html) sentiment analytics tool which is included in the [NLTK](https://www.nltk.org/) (Natural Language Toolkit) package.\n",
    "\n",
    "Run the code below to import `nltk`, import the `SentimentIntensityAnalyzer` class from `nltk`, download the `vader_lexicon`, and create an instance of `SentimentIntensityAnalyzer`."
   ]
  },
  {
   "cell_type": "code",
   "execution_count": 5,
   "metadata": {
    "cell_id": "00006-88f0f313-da50-4de2-8c59-b91ceda052e9",
    "deepnote_cell_type": "code",
    "deepnote_to_be_reexecuted": false,
    "execution_millis": 1831,
    "execution_start": 1633510550168,
    "source_hash": "307a976d",
    "tags": []
   },
   "outputs": [
    {
     "name": "stderr",
     "output_type": "stream",
     "text": [
      "[nltk_data] Downloading package vader_lexicon to\n",
      "[nltk_data]     C:\\Users\\zmh02\\AppData\\Roaming\\nltk_data...\n",
      "[nltk_data]   Package vader_lexicon is already up-to-date!\n"
     ]
    }
   ],
   "source": [
    "import nltk\n",
    "from nltk.sentiment.vader import SentimentIntensityAnalyzer\n",
    "nltk.download('vader_lexicon')\n",
    "scorer = SentimentIntensityAnalyzer()"
   ]
  },
  {
   "cell_type": "markdown",
   "metadata": {
    "cell_id": "00006-2e37548c-c4e9-48bb-9088-4f3a793e0499",
    "deepnote_cell_type": "markdown",
    "tags": []
   },
   "source": [
    "Now we have loaded our sentiment analysis tool, we can calculate the sentiment of the comments in the Airbnb reviews. To do this, we are going to create a `calculate_sentiment` function and then apply it to a small sample (`N=5`) of rows from `df_reviews`. To focus our attention on the columns `['comments','sentiment']` we are going to show only those in the `head()` of `df_reviews_sample`. Please run the code below and watch the magic happen!"
   ]
  },
  {
   "cell_type": "code",
   "execution_count": 10,
   "metadata": {
    "cell_id": "00008-3d2d2f75-8993-4673-ae50-ccd7bef43b8a",
    "deepnote_cell_type": "code",
    "deepnote_to_be_reexecuted": false,
    "execution_millis": 60,
    "execution_start": 1633510552007,
    "source_hash": "5d36530c",
    "tags": []
   },
   "outputs": [
    {
     "data": {
      "text/html": [
       "<div>\n",
       "<style scoped>\n",
       "    .dataframe tbody tr th:only-of-type {\n",
       "        vertical-align: middle;\n",
       "    }\n",
       "\n",
       "    .dataframe tbody tr th {\n",
       "        vertical-align: top;\n",
       "    }\n",
       "\n",
       "    .dataframe thead th {\n",
       "        text-align: right;\n",
       "    }\n",
       "</style>\n",
       "<table border=\"1\" class=\"dataframe\">\n",
       "  <thead>\n",
       "    <tr style=\"text-align: right;\">\n",
       "      <th></th>\n",
       "      <th>comments</th>\n",
       "      <th>sentiment</th>\n",
       "    </tr>\n",
       "  </thead>\n",
       "  <tbody>\n",
       "    <tr>\n",
       "      <th>12674</th>\n",
       "      <td>Good location and accessibility. Walking dista...</td>\n",
       "      <td>0.4404</td>\n",
       "    </tr>\n",
       "    <tr>\n",
       "      <th>91309</th>\n",
       "      <td>Wonderful hospitality by Carolyn. Wandsworth i...</td>\n",
       "      <td>0.9042</td>\n",
       "    </tr>\n",
       "    <tr>\n",
       "      <th>92883</th>\n",
       "      <td>Shari is lovely and the perfect hostess! We ab...</td>\n",
       "      <td>0.9229</td>\n",
       "    </tr>\n",
       "    <tr>\n",
       "      <th>50081</th>\n",
       "      <td>마트가 길 건너자마자 있는 점은 매우 좋았습니다. 방 넓이도 충분했고 청결도도 나쁘...</td>\n",
       "      <td>0.0000</td>\n",
       "    </tr>\n",
       "    <tr>\n",
       "      <th>18054</th>\n",
       "      <td>Very nice host and lovely apartment! Tube is j...</td>\n",
       "      <td>0.8775</td>\n",
       "    </tr>\n",
       "  </tbody>\n",
       "</table>\n",
       "</div>"
      ],
      "text/plain": [
       "                                                comments  sentiment\n",
       "12674  Good location and accessibility. Walking dista...     0.4404\n",
       "91309  Wonderful hospitality by Carolyn. Wandsworth i...     0.9042\n",
       "92883  Shari is lovely and the perfect hostess! We ab...     0.9229\n",
       "50081  마트가 길 건너자마자 있는 점은 매우 좋았습니다. 방 넓이도 충분했고 청결도도 나쁘...     0.0000\n",
       "18054  Very nice host and lovely apartment! Tube is j...     0.8775"
      ]
     },
     "execution_count": 10,
     "metadata": {},
     "output_type": "execute_result"
    }
   ],
   "source": [
    "def calculate_sentiment(comment):\n",
    "    return(scorer.polarity_scores(comment)['compound'])\n",
    "\n",
    "N = 5\n",
    "df_reviews_sample = df_reviews.sample(N)\n",
    "df_reviews_sample.loc[:,'sentiment'] = df_reviews_sample['comments'].apply(calculate_sentiment)\n",
    "df_reviews_sample[['comments','sentiment']].head()"
   ]
  },
  {
   "cell_type": "markdown",
   "metadata": {
    "cell_id": "00009-9ff1b9ac-aee6-482e-82e5-dfa41f358959",
    "deepnote_cell_type": "markdown",
    "tags": []
   },
   "source": [
    "Run the above code a few times, to get a feel for how the sentiment analysis tool is working. Is there anything unexpected/interesting?"
   ]
  },
  {
   "cell_type": "markdown",
   "metadata": {
    "cell_id": "00001-d2b6a883-b571-449b-83d3-2f0379123a4e",
    "deepnote_cell_type": "markdown",
    "tags": []
   },
   "source": [
    "## Segmented data\n",
    "Sometimes we want to perform analysis on only a segment on the data. For example, someone might ask *what is the most expensive listing in London?*, and to solve this we would only need to analysis data for listings based in London.\n",
    "\n",
    "To explore this idea, let's analyse some segments of the `listings_sample.csv` data. Run the code below to load `listings_sample.csv`."
   ]
  },
  {
   "cell_type": "code",
   "execution_count": 11,
   "metadata": {
    "cell_id": "00002-38d1fa1d-4b4c-47a0-9455-637abde65d4a",
    "deepnote_cell_type": "code",
    "deepnote_to_be_reexecuted": false,
    "execution_millis": 832,
    "execution_start": 1633510552063,
    "source_hash": "f5e2616a",
    "tags": []
   },
   "outputs": [
    {
     "data": {
      "text/html": [
       "<div>\n",
       "<style scoped>\n",
       "    .dataframe tbody tr th:only-of-type {\n",
       "        vertical-align: middle;\n",
       "    }\n",
       "\n",
       "    .dataframe tbody tr th {\n",
       "        vertical-align: top;\n",
       "    }\n",
       "\n",
       "    .dataframe thead th {\n",
       "        text-align: right;\n",
       "    }\n",
       "</style>\n",
       "<table border=\"1\" class=\"dataframe\">\n",
       "  <thead>\n",
       "    <tr style=\"text-align: right;\">\n",
       "      <th></th>\n",
       "      <th>host_id</th>\n",
       "      <th>id</th>\n",
       "      <th>name</th>\n",
       "      <th>description</th>\n",
       "      <th>neighborhood_overview</th>\n",
       "      <th>neighbourhood</th>\n",
       "      <th>latitude</th>\n",
       "      <th>longitude</th>\n",
       "      <th>room_type</th>\n",
       "      <th>accommodates</th>\n",
       "      <th>...</th>\n",
       "      <th>amenities</th>\n",
       "      <th>price</th>\n",
       "      <th>number_of_reviews</th>\n",
       "      <th>review_scores_rating</th>\n",
       "      <th>review_scores_accuracy</th>\n",
       "      <th>review_scores_cleanliness</th>\n",
       "      <th>review_scores_checkin</th>\n",
       "      <th>review_scores_communication</th>\n",
       "      <th>review_scores_location</th>\n",
       "      <th>review_scores_value</th>\n",
       "    </tr>\n",
       "  </thead>\n",
       "  <tbody>\n",
       "    <tr>\n",
       "      <th>0</th>\n",
       "      <td>43039</td>\n",
       "      <td>11551</td>\n",
       "      <td>Arty and Bright London Apartment in Zone 2</td>\n",
       "      <td>Unlike most rental apartments my flat gives yo...</td>\n",
       "      <td>Not even 10 minutes by metro from Victoria Sta...</td>\n",
       "      <td>London, United Kingdom</td>\n",
       "      <td>51.46095</td>\n",
       "      <td>-0.11758</td>\n",
       "      <td>Entire home/apt</td>\n",
       "      <td>4</td>\n",
       "      <td>...</td>\n",
       "      <td>[\"Hair dryer\", \"Essentials\", \"Washer\", \"Lockbo...</td>\n",
       "      <td>$110.00</td>\n",
       "      <td>193</td>\n",
       "      <td>91.0</td>\n",
       "      <td>9.0</td>\n",
       "      <td>9.0</td>\n",
       "      <td>10.0</td>\n",
       "      <td>10.0</td>\n",
       "      <td>9.0</td>\n",
       "      <td>9.0</td>\n",
       "    </tr>\n",
       "    <tr>\n",
       "      <th>1</th>\n",
       "      <td>54730</td>\n",
       "      <td>13913</td>\n",
       "      <td>Holiday London DB Room Let-on going</td>\n",
       "      <td>My bright double bedroom with a large window h...</td>\n",
       "      <td>Finsbury Park is a friendly melting pot commun...</td>\n",
       "      <td>Islington, Greater London, United Kingdom</td>\n",
       "      <td>51.56861</td>\n",
       "      <td>-0.11270</td>\n",
       "      <td>Private room</td>\n",
       "      <td>2</td>\n",
       "      <td>...</td>\n",
       "      <td>[\"Kitchen\", \"Host greets you\", \"Bed linens\", \"...</td>\n",
       "      <td>$40.00</td>\n",
       "      <td>21</td>\n",
       "      <td>97.0</td>\n",
       "      <td>10.0</td>\n",
       "      <td>10.0</td>\n",
       "      <td>10.0</td>\n",
       "      <td>10.0</td>\n",
       "      <td>9.0</td>\n",
       "      <td>9.0</td>\n",
       "    </tr>\n",
       "    <tr>\n",
       "      <th>2</th>\n",
       "      <td>60302</td>\n",
       "      <td>15400</td>\n",
       "      <td>Bright Chelsea  Apartment. Chelsea!</td>\n",
       "      <td>Lots of windows and light.  St Luke's Gardens ...</td>\n",
       "      <td>It is Chelsea.</td>\n",
       "      <td>London, United Kingdom</td>\n",
       "      <td>51.48780</td>\n",
       "      <td>-0.16813</td>\n",
       "      <td>Entire home/apt</td>\n",
       "      <td>2</td>\n",
       "      <td>...</td>\n",
       "      <td>[\"Kitchen\", \"Hangers\", \"Fire extinguisher\", \"L...</td>\n",
       "      <td>$75.00</td>\n",
       "      <td>89</td>\n",
       "      <td>96.0</td>\n",
       "      <td>10.0</td>\n",
       "      <td>10.0</td>\n",
       "      <td>10.0</td>\n",
       "      <td>10.0</td>\n",
       "      <td>10.0</td>\n",
       "      <td>9.0</td>\n",
       "    </tr>\n",
       "    <tr>\n",
       "      <th>3</th>\n",
       "      <td>67564</td>\n",
       "      <td>17402</td>\n",
       "      <td>Superb 3-Bed/2 Bath &amp; Wifi: Trendy W1</td>\n",
       "      <td>You'll have a wonderful stay in this superb mo...</td>\n",
       "      <td>Location, location, location! You won't find b...</td>\n",
       "      <td>London, Fitzrovia, United Kingdom</td>\n",
       "      <td>51.52195</td>\n",
       "      <td>-0.14094</td>\n",
       "      <td>Entire home/apt</td>\n",
       "      <td>6</td>\n",
       "      <td>...</td>\n",
       "      <td>[\"Dishwasher\", \"Kitchen\", \"Bed linens\", \"Hange...</td>\n",
       "      <td>$307.00</td>\n",
       "      <td>42</td>\n",
       "      <td>94.0</td>\n",
       "      <td>10.0</td>\n",
       "      <td>9.0</td>\n",
       "      <td>9.0</td>\n",
       "      <td>9.0</td>\n",
       "      <td>10.0</td>\n",
       "      <td>9.0</td>\n",
       "    </tr>\n",
       "    <tr>\n",
       "      <th>4</th>\n",
       "      <td>103583</td>\n",
       "      <td>25123</td>\n",
       "      <td>Clean big Room in London (Room 1)</td>\n",
       "      <td>Big room with double bed/ clean sheets/ clean ...</td>\n",
       "      <td>Barnet is one of the largest boroughs in Londo...</td>\n",
       "      <td>Barnet, England, United Kingdom</td>\n",
       "      <td>51.57438</td>\n",
       "      <td>-0.21081</td>\n",
       "      <td>Private room</td>\n",
       "      <td>2</td>\n",
       "      <td>...</td>\n",
       "      <td>[\"Essentials\", \"Kitchen\", \"Washer\", \"Hair drye...</td>\n",
       "      <td>$29.00</td>\n",
       "      <td>129</td>\n",
       "      <td>96.0</td>\n",
       "      <td>10.0</td>\n",
       "      <td>10.0</td>\n",
       "      <td>10.0</td>\n",
       "      <td>10.0</td>\n",
       "      <td>9.0</td>\n",
       "      <td>10.0</td>\n",
       "    </tr>\n",
       "  </tbody>\n",
       "</table>\n",
       "<p>5 rows × 23 columns</p>\n",
       "</div>"
      ],
      "text/plain": [
       "   host_id     id                                        name  \\\n",
       "0    43039  11551  Arty and Bright London Apartment in Zone 2   \n",
       "1    54730  13913         Holiday London DB Room Let-on going   \n",
       "2    60302  15400         Bright Chelsea  Apartment. Chelsea!   \n",
       "3    67564  17402       Superb 3-Bed/2 Bath & Wifi: Trendy W1   \n",
       "4   103583  25123           Clean big Room in London (Room 1)   \n",
       "\n",
       "                                         description  \\\n",
       "0  Unlike most rental apartments my flat gives yo...   \n",
       "1  My bright double bedroom with a large window h...   \n",
       "2  Lots of windows and light.  St Luke's Gardens ...   \n",
       "3  You'll have a wonderful stay in this superb mo...   \n",
       "4  Big room with double bed/ clean sheets/ clean ...   \n",
       "\n",
       "                               neighborhood_overview  \\\n",
       "0  Not even 10 minutes by metro from Victoria Sta...   \n",
       "1  Finsbury Park is a friendly melting pot commun...   \n",
       "2                                     It is Chelsea.   \n",
       "3  Location, location, location! You won't find b...   \n",
       "4  Barnet is one of the largest boroughs in Londo...   \n",
       "\n",
       "                               neighbourhood  latitude  longitude  \\\n",
       "0                     London, United Kingdom  51.46095   -0.11758   \n",
       "1  Islington, Greater London, United Kingdom  51.56861   -0.11270   \n",
       "2                     London, United Kingdom  51.48780   -0.16813   \n",
       "3          London, Fitzrovia, United Kingdom  51.52195   -0.14094   \n",
       "4            Barnet, England, United Kingdom  51.57438   -0.21081   \n",
       "\n",
       "         room_type  accommodates  ...  \\\n",
       "0  Entire home/apt             4  ...   \n",
       "1     Private room             2  ...   \n",
       "2  Entire home/apt             2  ...   \n",
       "3  Entire home/apt             6  ...   \n",
       "4     Private room             2  ...   \n",
       "\n",
       "                                           amenities    price  \\\n",
       "0  [\"Hair dryer\", \"Essentials\", \"Washer\", \"Lockbo...  $110.00   \n",
       "1  [\"Kitchen\", \"Host greets you\", \"Bed linens\", \"...   $40.00   \n",
       "2  [\"Kitchen\", \"Hangers\", \"Fire extinguisher\", \"L...   $75.00   \n",
       "3  [\"Dishwasher\", \"Kitchen\", \"Bed linens\", \"Hange...  $307.00   \n",
       "4  [\"Essentials\", \"Kitchen\", \"Washer\", \"Hair drye...   $29.00   \n",
       "\n",
       "   number_of_reviews review_scores_rating review_scores_accuracy  \\\n",
       "0                193                 91.0                    9.0   \n",
       "1                 21                 97.0                   10.0   \n",
       "2                 89                 96.0                   10.0   \n",
       "3                 42                 94.0                   10.0   \n",
       "4                129                 96.0                   10.0   \n",
       "\n",
       "   review_scores_cleanliness  review_scores_checkin  \\\n",
       "0                        9.0                   10.0   \n",
       "1                       10.0                   10.0   \n",
       "2                       10.0                   10.0   \n",
       "3                        9.0                    9.0   \n",
       "4                       10.0                   10.0   \n",
       "\n",
       "   review_scores_communication  review_scores_location  review_scores_value  \n",
       "0                         10.0                     9.0                  9.0  \n",
       "1                         10.0                     9.0                  9.0  \n",
       "2                         10.0                    10.0                  9.0  \n",
       "3                          9.0                    10.0                  9.0  \n",
       "4                         10.0                     9.0                 10.0  \n",
       "\n",
       "[5 rows x 23 columns]"
      ]
     },
     "execution_count": 11,
     "metadata": {},
     "output_type": "execute_result"
    }
   ],
   "source": [
    "import pandas as pd\n",
    "df_listings = pd.read_csv('../data/listings_sample.csv')\n",
    "df_listings.head()"
   ]
  },
  {
   "cell_type": "markdown",
   "metadata": {
    "cell_id": "00013-7d435d32-23a9-4455-b13f-cd971bae9808",
    "deepnote_cell_type": "markdown",
    "tags": []
   },
   "source": [
    "Let's assume we want to segment the listings by `room_type`. First, let's take a quick look at how many listings of each `room_type` there are in `df_listings`. To do this, we can use the `value_counts()` method. Please run the code below."
   ]
  },
  {
   "cell_type": "code",
   "execution_count": 12,
   "metadata": {
    "cell_id": "00003-589ec3dd-36ab-40c1-90ad-860a97e56620",
    "deepnote_cell_type": "code",
    "deepnote_to_be_reexecuted": false,
    "execution_millis": 31,
    "execution_start": 1633510552905,
    "source_hash": "97e6acc6",
    "tags": []
   },
   "outputs": [
    {
     "data": {
      "text/plain": [
       "Entire home/apt    15623\n",
       "Private room       11579\n",
       "Hotel room           176\n",
       "Shared room          148\n",
       "Name: room_type, dtype: int64"
      ]
     },
     "execution_count": 12,
     "metadata": {},
     "output_type": "execute_result"
    }
   ],
   "source": [
    "df_listings['room_type'].value_counts().head()"
   ]
  },
  {
   "cell_type": "markdown",
   "metadata": {
    "cell_id": "00002-b862573b-05d6-4559-94cf-493bfabfadf4",
    "deepnote_cell_type": "markdown",
    "tags": []
   },
   "source": [
    "### Exercise-03: Identify luxury homes\n",
    "You are a business analyst at a company which a business development manager who asks you to identify the 5 most expensive listings which are entire homes/apartments.\n",
    "\n",
    "To do this, you first need to create a new `price_$` column in `df_listings` like we did in `01-Basic.ipynb`. Please do that using the `format_price` function written below."
   ]
  },
  {
   "cell_type": "code",
   "execution_count": 34,
   "metadata": {
    "cell_id": "00015-e16a4998-d0e0-4f43-9f4a-62c9c48ee484",
    "deepnote_cell_type": "code",
    "deepnote_to_be_reexecuted": false,
    "execution_millis": 58,
    "execution_start": 1633510552964,
    "source_hash": "1c897ce6",
    "tags": []
   },
   "outputs": [
    {
     "data": {
      "text/html": [
       "<div>\n",
       "<style scoped>\n",
       "    .dataframe tbody tr th:only-of-type {\n",
       "        vertical-align: middle;\n",
       "    }\n",
       "\n",
       "    .dataframe tbody tr th {\n",
       "        vertical-align: top;\n",
       "    }\n",
       "\n",
       "    .dataframe thead th {\n",
       "        text-align: right;\n",
       "    }\n",
       "</style>\n",
       "<table border=\"1\" class=\"dataframe\">\n",
       "  <thead>\n",
       "    <tr style=\"text-align: right;\">\n",
       "      <th></th>\n",
       "      <th>price</th>\n",
       "      <th>price_$</th>\n",
       "    </tr>\n",
       "  </thead>\n",
       "  <tbody>\n",
       "    <tr>\n",
       "      <th>0</th>\n",
       "      <td>$110.00</td>\n",
       "      <td>110.0</td>\n",
       "    </tr>\n",
       "    <tr>\n",
       "      <th>1</th>\n",
       "      <td>$40.00</td>\n",
       "      <td>40.0</td>\n",
       "    </tr>\n",
       "    <tr>\n",
       "      <th>2</th>\n",
       "      <td>$75.00</td>\n",
       "      <td>75.0</td>\n",
       "    </tr>\n",
       "    <tr>\n",
       "      <th>3</th>\n",
       "      <td>$307.00</td>\n",
       "      <td>307.0</td>\n",
       "    </tr>\n",
       "    <tr>\n",
       "      <th>4</th>\n",
       "      <td>$29.00</td>\n",
       "      <td>29.0</td>\n",
       "    </tr>\n",
       "  </tbody>\n",
       "</table>\n",
       "</div>"
      ],
      "text/plain": [
       "     price  price_$\n",
       "0  $110.00    110.0\n",
       "1   $40.00     40.0\n",
       "2   $75.00     75.0\n",
       "3  $307.00    307.0\n",
       "4   $29.00     29.0"
      ]
     },
     "execution_count": 34,
     "metadata": {},
     "output_type": "execute_result"
    }
   ],
   "source": [
    "def format_price(price):\n",
    "    return(float(price.replace('$','').replace(',','')))\n",
    "\n",
    "# (SOLUTION)\n"
   ]
  },
  {
   "cell_type": "markdown",
   "metadata": {
    "cell_id": "00016-05dd5e08-bffb-4942-9ca2-b8d8f0e55f9c",
    "deepnote_cell_type": "markdown",
    "tags": []
   },
   "source": [
    "Now we have price values in a format we can use, we can segment the data and run our analysis to meet the manager's request. To do this, we will:\n",
    "\n",
    "1. Segment `df_listings` to create a new `DataFrame` named `df_entire_home_apt` which contains only listings with `room_type` equal to `Entire home/apt` and review_scores_rating > 80.\n",
    "2. Sort the rows of `df_entire_home_apt` by the values in `price_$` from largest (most expensive) to smallest (cheapest).\n",
    "3. Display the top 5 rows to show columns we think most relevant for the 5 most expensive listings which are entire homes/apartments.\n",
    "\n",
    "We will do all this by running only the 3 lines of code shown below. Please run the code."
   ]
  },
  {
   "cell_type": "code",
   "execution_count": 23,
   "metadata": {
    "cell_id": "00005-c178ce40-626a-4f1e-a5c5-bae461aca1c3",
    "deepnote_cell_type": "code",
    "deepnote_to_be_reexecuted": false,
    "execution_millis": 75,
    "execution_start": 1633510553008,
    "source_hash": "129ca33c",
    "tags": []
   },
   "outputs": [
    {
     "data": {
      "text/html": [
       "<div>\n",
       "<style scoped>\n",
       "    .dataframe tbody tr th:only-of-type {\n",
       "        vertical-align: middle;\n",
       "    }\n",
       "\n",
       "    .dataframe tbody tr th {\n",
       "        vertical-align: top;\n",
       "    }\n",
       "\n",
       "    .dataframe thead th {\n",
       "        text-align: right;\n",
       "    }\n",
       "</style>\n",
       "<table border=\"1\" class=\"dataframe\">\n",
       "  <thead>\n",
       "    <tr style=\"text-align: right;\">\n",
       "      <th></th>\n",
       "      <th>id</th>\n",
       "      <th>name</th>\n",
       "      <th>description</th>\n",
       "      <th>neighbourhood</th>\n",
       "      <th>price_$</th>\n",
       "      <th>review_scores_rating</th>\n",
       "    </tr>\n",
       "  </thead>\n",
       "  <tbody>\n",
       "    <tr>\n",
       "      <th>14629</th>\n",
       "      <td>21670579</td>\n",
       "      <td>Historic 1920s House moments from the Thames</td>\n",
       "      <td>The moment you walk through the door you will ...</td>\n",
       "      <td>London, United Kingdom</td>\n",
       "      <td>17803.0</td>\n",
       "      <td>93.0</td>\n",
       "    </tr>\n",
       "    <tr>\n",
       "      <th>6334</th>\n",
       "      <td>10355508</td>\n",
       "      <td>West End Apartment 1 on Wardour St</td>\n",
       "      <td>This brand new luxury one-bed apartment is on ...</td>\n",
       "      <td>London, United Kingdom</td>\n",
       "      <td>17803.0</td>\n",
       "      <td>91.0</td>\n",
       "    </tr>\n",
       "    <tr>\n",
       "      <th>9823</th>\n",
       "      <td>16117963</td>\n",
       "      <td>Heinze Flat 402 - One bedroom fourth floor flat</td>\n",
       "      <td>This one bedroom apartment is located on the f...</td>\n",
       "      <td>NaN</td>\n",
       "      <td>16023.0</td>\n",
       "      <td>94.0</td>\n",
       "    </tr>\n",
       "    <tr>\n",
       "      <th>5293</th>\n",
       "      <td>8335468</td>\n",
       "      <td>Mulberry Flat 5 - One bedroom 3rd floor</td>\n",
       "      <td>One bedroom apartment on the third floor (with...</td>\n",
       "      <td>NaN</td>\n",
       "      <td>16023.0</td>\n",
       "      <td>90.0</td>\n",
       "    </tr>\n",
       "    <tr>\n",
       "      <th>6084</th>\n",
       "      <td>9769911</td>\n",
       "      <td>Mulberry Flat 4 - Two bedroom 2nd floor</td>\n",
       "      <td>Two bedroom apartment on the second floor (wit...</td>\n",
       "      <td>NaN</td>\n",
       "      <td>16023.0</td>\n",
       "      <td>96.0</td>\n",
       "    </tr>\n",
       "  </tbody>\n",
       "</table>\n",
       "</div>"
      ],
      "text/plain": [
       "             id                                             name  \\\n",
       "14629  21670579     Historic 1920s House moments from the Thames   \n",
       "6334   10355508               West End Apartment 1 on Wardour St   \n",
       "9823   16117963  Heinze Flat 402 - One bedroom fourth floor flat   \n",
       "5293    8335468          Mulberry Flat 5 - One bedroom 3rd floor   \n",
       "6084    9769911          Mulberry Flat 4 - Two bedroom 2nd floor   \n",
       "\n",
       "                                             description  \\\n",
       "14629  The moment you walk through the door you will ...   \n",
       "6334   This brand new luxury one-bed apartment is on ...   \n",
       "9823   This one bedroom apartment is located on the f...   \n",
       "5293   One bedroom apartment on the third floor (with...   \n",
       "6084   Two bedroom apartment on the second floor (wit...   \n",
       "\n",
       "                neighbourhood  price_$  review_scores_rating  \n",
       "14629  London, United Kingdom  17803.0                  93.0  \n",
       "6334   London, United Kingdom  17803.0                  91.0  \n",
       "9823                      NaN  16023.0                  94.0  \n",
       "5293                      NaN  16023.0                  90.0  \n",
       "6084                      NaN  16023.0                  96.0  "
      ]
     },
     "execution_count": 23,
     "metadata": {},
     "output_type": "execute_result"
    }
   ],
   "source": [
    "df_entire_home_apt = df_listings[(df_listings['room_type']=='Entire home/apt') & \n",
    "                                 (df_listings['review_scores_rating'] > 80)]\n",
    "df_entire_home_apt = df_entire_home_apt.sort_values(by=['price_$'],ascending=False)\n",
    "df_entire_home_apt[['id','name','description','neighbourhood','price_$','review_scores_rating']].head(5)"
   ]
  },
  {
   "cell_type": "markdown",
   "metadata": {
    "cell_id": "00004-4fa624fe-6cd9-4e58-93eb-48dd59579c08",
    "deepnote_cell_type": "markdown",
    "tags": []
   },
   "source": [
    "### Exercise 04: Identify budget rooms\n",
    "the same business development manager now asks you to identify the 5 cheapest listings which are private rooms and located in London without nan value in this variable. Using the above exercise as a guide, run an analysis to meet the manager's request. You will use the filter condition - `df_listings['-----'].str.contains('----', na = False)`"
   ]
  },
  {
   "cell_type": "code",
   "execution_count": 24,
   "metadata": {
    "cell_id": "00004-9098e09e-69e2-414a-b7ac-4fa3391d5686",
    "deepnote_cell_type": "code",
    "deepnote_to_be_reexecuted": false,
    "execution_millis": 49,
    "execution_start": 1633510553086,
    "source_hash": "f2cc5168",
    "tags": []
   },
   "outputs": [
    {
     "data": {
      "text/html": [
       "<div>\n",
       "<style scoped>\n",
       "    .dataframe tbody tr th:only-of-type {\n",
       "        vertical-align: middle;\n",
       "    }\n",
       "\n",
       "    .dataframe tbody tr th {\n",
       "        vertical-align: top;\n",
       "    }\n",
       "\n",
       "    .dataframe thead th {\n",
       "        text-align: right;\n",
       "    }\n",
       "</style>\n",
       "<table border=\"1\" class=\"dataframe\">\n",
       "  <thead>\n",
       "    <tr style=\"text-align: right;\">\n",
       "      <th></th>\n",
       "      <th>id</th>\n",
       "      <th>name</th>\n",
       "      <th>description</th>\n",
       "      <th>neighbourhood</th>\n",
       "      <th>price_$</th>\n",
       "    </tr>\n",
       "  </thead>\n",
       "  <tbody>\n",
       "    <tr>\n",
       "      <th>16650</th>\n",
       "      <td>24449207</td>\n",
       "      <td>NHS frontline staff only - UCH/Whittington staff</td>\n",
       "      <td>Special, exclusive for front line NHS staff du...</td>\n",
       "      <td>Greater London, England, United Kingdom</td>\n",
       "      <td>9.0</td>\n",
       "    </tr>\n",
       "    <tr>\n",
       "      <th>15866</th>\n",
       "      <td>23316611</td>\n",
       "      <td>Charmstay Apartment Large on Piccadilly Line</td>\n",
       "      <td>Beautiful one bedroom apartment for 4 people n...</td>\n",
       "      <td>Greater London, England, United Kingdom</td>\n",
       "      <td>10.0</td>\n",
       "    </tr>\n",
       "    <tr>\n",
       "      <th>13635</th>\n",
       "      <td>20579117</td>\n",
       "      <td>Charmstay - Center Apartment on Jubilee Line</td>\n",
       "      <td>A beautiful two bedroom apartment just 2 minut...</td>\n",
       "      <td>Greater London, England, United Kingdom</td>\n",
       "      <td>10.0</td>\n",
       "    </tr>\n",
       "    <tr>\n",
       "      <th>16907</th>\n",
       "      <td>24787100</td>\n",
       "      <td>Double studio apartment next to Euston Station</td>\n",
       "      <td>Studio apartment ideal for a couple getaway in...</td>\n",
       "      <td>Greater London, England, United Kingdom</td>\n",
       "      <td>10.0</td>\n",
       "    </tr>\n",
       "    <tr>\n",
       "      <th>5268</th>\n",
       "      <td>8299177</td>\n",
       "      <td>Private 4 bedrooms Victorian House</td>\n",
       "      <td>Elegant Victorian House that can host up to 8 ...</td>\n",
       "      <td>London, United Kingdom</td>\n",
       "      <td>10.0</td>\n",
       "    </tr>\n",
       "  </tbody>\n",
       "</table>\n",
       "</div>"
      ],
      "text/plain": [
       "             id                                              name  \\\n",
       "16650  24449207  NHS frontline staff only - UCH/Whittington staff   \n",
       "15866  23316611      Charmstay Apartment Large on Piccadilly Line   \n",
       "13635  20579117      Charmstay - Center Apartment on Jubilee Line   \n",
       "16907  24787100    Double studio apartment next to Euston Station   \n",
       "5268    8299177                Private 4 bedrooms Victorian House   \n",
       "\n",
       "                                             description  \\\n",
       "16650  Special, exclusive for front line NHS staff du...   \n",
       "15866  Beautiful one bedroom apartment for 4 people n...   \n",
       "13635  A beautiful two bedroom apartment just 2 minut...   \n",
       "16907  Studio apartment ideal for a couple getaway in...   \n",
       "5268   Elegant Victorian House that can host up to 8 ...   \n",
       "\n",
       "                                 neighbourhood  price_$  \n",
       "16650  Greater London, England, United Kingdom      9.0  \n",
       "15866  Greater London, England, United Kingdom     10.0  \n",
       "13635  Greater London, England, United Kingdom     10.0  \n",
       "16907  Greater London, England, United Kingdom     10.0  \n",
       "5268                    London, United Kingdom     10.0  "
      ]
     },
     "execution_count": 24,
     "metadata": {},
     "output_type": "execute_result"
    }
   ],
   "source": [
    "# (SOLUTION)\n",
    "\n"
   ]
  },
  {
   "cell_type": "markdown",
   "metadata": {
    "cell_id": "00002-0c75d8a2-e584-4da0-98c2-0f13d8152dce",
    "deepnote_cell_type": "markdown",
    "tags": []
   },
   "source": [
    "## Advanced request\n",
    "Well done so far! Let's now take it too the next level! Let's used what we have learned so far to meet the following request:\n",
    "\n",
    "*Identify the 5 listings with highest positive mean sentiment of their reviews, such that the listings have at least 5 reviews less than 3 years old*"
   ]
  },
  {
   "cell_type": "markdown",
   "metadata": {
    "cell_id": "00002-7d28c2af-73d4-42d7-b2fb-dcbbb4652939",
    "deepnote_cell_type": "markdown",
    "tags": []
   },
   "source": [
    "### Exercise-05: Filter review data\n",
    "First we need to load `reviews_sample.csv` and filter it to only keep reviews with:\n",
    "1. values of not `nan` in the `comments` column,\n",
    "2. values less than 3 years old in the `date` column, and\n",
    "3. values in the `listing_id` column corresponding to listings with at least 5 reviews.\n",
    "\n",
    "This can all be done by running the following code."
   ]
  },
  {
   "cell_type": "code",
   "execution_count": 25,
   "metadata": {
    "cell_id": "00000-6f9e41dc-39f8-462f-888c-92d2cc0ff357",
    "deepnote_cell_type": "code",
    "deepnote_to_be_reexecuted": false,
    "execution_millis": 508,
    "execution_start": 1633510553130,
    "source_hash": "f353607d",
    "tags": []
   },
   "outputs": [],
   "source": [
    "import pandas as pd\n",
    "df_reviews = pd.read_csv('../data/reviews_sample.csv')\n",
    "\n",
    "df_reviews = df_reviews[~df_reviews['comments'].isna()]\n",
    "\n",
    "df_reviews = df_reviews[df_reviews['date']>'2018-10-05']\n",
    "\n",
    "listing_counts = df_reviews['listing_id'].value_counts()\n",
    "valid_listings = listing_counts[listing_counts>=5].index\n",
    "df_reviews = df_reviews[df_reviews['listing_id'].isin(valid_listings)]"
   ]
  },
  {
   "cell_type": "markdown",
   "metadata": {
    "cell_id": "00023-60af850b-2d2e-421a-9247-4aeaa401d6ea",
    "deepnote_cell_type": "markdown",
    "tags": []
   },
   "source": [
    "We can do a \"sanity check\" by running the code below, which should all produce value `0`. Consider how you might use such test to check your code as you develop it."
   ]
  },
  {
   "cell_type": "code",
   "execution_count": 26,
   "metadata": {
    "cell_id": "00024-511e6b18-e2f2-4406-9244-fb00370ff859",
    "deepnote_cell_type": "code",
    "deepnote_to_be_reexecuted": false,
    "execution_millis": 86,
    "execution_start": 1633510650116,
    "source_hash": "e03d4b06",
    "tags": []
   },
   "outputs": [
    {
     "name": "stdout",
     "output_type": "stream",
     "text": [
      "0\n",
      "0\n",
      "0\n"
     ]
    }
   ],
   "source": [
    "print(sum(df_reviews['comments'].isna()))\n",
    "print(sum(df_reviews['date']<='2018-10-05'))\n",
    "print(sum(df_reviews['listing_id'].value_counts()<5))"
   ]
  },
  {
   "cell_type": "markdown",
   "metadata": {
    "cell_id": "00023-f33b4ce0-222e-47d4-af7b-19dfd829b4f0",
    "deepnote_cell_type": "markdown",
    "tags": []
   },
   "source": [
    "### Exercise-06: Analyse review data\n",
    "We already have most of the pieces we need. Simply `apply` the `calculate_sentiment` function (in the way we did before) to the `comments` column of the (now filtered) `df_reviews` to create a new column named `sentiment` containing the a sentiment value for each reviews comment. Please write the code below and run.\n",
    "\n",
    "(Note that we are no running the `calculate_sentiment` over every row in the filtered `df_reviews` so it might take a while longer...)"
   ]
  },
  {
   "cell_type": "code",
   "execution_count": 28,
   "metadata": {
    "cell_id": "00003-9d0b5a27-934f-4498-a97c-1dc8a75b26f0",
    "deepnote_cell_type": "code",
    "deepnote_to_be_reexecuted": false,
    "execution_millis": 12428,
    "execution_start": 1633510553704,
    "source_hash": "9a409e5f",
    "tags": []
   },
   "outputs": [
    {
     "data": {
      "text/html": [
       "<div>\n",
       "<style scoped>\n",
       "    .dataframe tbody tr th:only-of-type {\n",
       "        vertical-align: middle;\n",
       "    }\n",
       "\n",
       "    .dataframe tbody tr th {\n",
       "        vertical-align: top;\n",
       "    }\n",
       "\n",
       "    .dataframe thead th {\n",
       "        text-align: right;\n",
       "    }\n",
       "</style>\n",
       "<table border=\"1\" class=\"dataframe\">\n",
       "  <thead>\n",
       "    <tr style=\"text-align: right;\">\n",
       "      <th></th>\n",
       "      <th>comments</th>\n",
       "      <th>sentiment</th>\n",
       "    </tr>\n",
       "  </thead>\n",
       "  <tbody>\n",
       "    <tr>\n",
       "      <th>3</th>\n",
       "      <td>Guests can expect a great hospitality. The stu...</td>\n",
       "      <td>0.9594</td>\n",
       "    </tr>\n",
       "    <tr>\n",
       "      <th>5</th>\n",
       "      <td>Really nice host. He is very kind and sympathi...</td>\n",
       "      <td>0.7774</td>\n",
       "    </tr>\n",
       "    <tr>\n",
       "      <th>8</th>\n",
       "      <td>Soo is a great host, would love to stay at the...</td>\n",
       "      <td>0.8519</td>\n",
       "    </tr>\n",
       "    <tr>\n",
       "      <th>9</th>\n",
       "      <td>Gospodarz miły i przyjazny, chętnie służący po...</td>\n",
       "      <td>0.0000</td>\n",
       "    </tr>\n",
       "    <tr>\n",
       "      <th>11</th>\n",
       "      <td>The host(Carlos) was really nice and kind man....</td>\n",
       "      <td>0.9404</td>\n",
       "    </tr>\n",
       "  </tbody>\n",
       "</table>\n",
       "</div>"
      ],
      "text/plain": [
       "                                             comments  sentiment\n",
       "3   Guests can expect a great hospitality. The stu...     0.9594\n",
       "5   Really nice host. He is very kind and sympathi...     0.7774\n",
       "8   Soo is a great host, would love to stay at the...     0.8519\n",
       "9   Gospodarz miły i przyjazny, chętnie służący po...     0.0000\n",
       "11  The host(Carlos) was really nice and kind man....     0.9404"
      ]
     },
     "execution_count": 28,
     "metadata": {},
     "output_type": "execute_result"
    }
   ],
   "source": [
    "# SOLUTION\n",
    "\n",
    "\n"
   ]
  },
  {
   "cell_type": "markdown",
   "metadata": {
    "cell_id": "00005-2e327721-cef6-445c-bd4d-73907ceecc87",
    "deepnote_cell_type": "markdown",
    "tags": []
   },
   "source": [
    "Next we need to calculate the mean sentiment for each listing. To do this, we use the `groupby` and `agg` methods on the following way to create a new `DataFrame` named `listing_scored` containing each `listings_id` and the `mean` of its `sentiment` scores. Please run the code below."
   ]
  },
  {
   "cell_type": "code",
   "execution_count": 30,
   "metadata": {
    "scrolled": true
   },
   "outputs": [
    {
     "data": {
      "text/html": [
       "<div>\n",
       "<style scoped>\n",
       "    .dataframe tbody tr th:only-of-type {\n",
       "        vertical-align: middle;\n",
       "    }\n",
       "\n",
       "    .dataframe tbody tr th {\n",
       "        vertical-align: top;\n",
       "    }\n",
       "\n",
       "    .dataframe thead th {\n",
       "        text-align: right;\n",
       "    }\n",
       "</style>\n",
       "<table border=\"1\" class=\"dataframe\">\n",
       "  <thead>\n",
       "    <tr style=\"text-align: right;\">\n",
       "      <th></th>\n",
       "      <th>listing_id</th>\n",
       "      <th>mean</th>\n",
       "    </tr>\n",
       "  </thead>\n",
       "  <tbody>\n",
       "    <tr>\n",
       "      <th>0</th>\n",
       "      <td>38605</td>\n",
       "      <td>0.617400</td>\n",
       "    </tr>\n",
       "    <tr>\n",
       "      <th>1</th>\n",
       "      <td>42010</td>\n",
       "      <td>0.899200</td>\n",
       "    </tr>\n",
       "    <tr>\n",
       "      <th>2</th>\n",
       "      <td>62747</td>\n",
       "      <td>0.753300</td>\n",
       "    </tr>\n",
       "    <tr>\n",
       "      <th>3</th>\n",
       "      <td>64429</td>\n",
       "      <td>0.683300</td>\n",
       "    </tr>\n",
       "    <tr>\n",
       "      <th>4</th>\n",
       "      <td>84532</td>\n",
       "      <td>0.926786</td>\n",
       "    </tr>\n",
       "  </tbody>\n",
       "</table>\n",
       "</div>"
      ],
      "text/plain": [
       "   listing_id      mean\n",
       "0       38605  0.617400\n",
       "1       42010  0.899200\n",
       "2       62747  0.753300\n",
       "3       64429  0.683300\n",
       "4       84532  0.926786"
      ]
     },
     "execution_count": 30,
     "metadata": {},
     "output_type": "execute_result"
    }
   ],
   "source": [
    "listings_scored = df_reviews.groupby('listing_id')['sentiment'].agg(['mean']).reset_index()\n",
    "listings_scored.head()"
   ]
  },
  {
   "cell_type": "markdown",
   "metadata": {
    "cell_id": "00011-4c49117b-bd28-4c19-946a-dcaa92e4838b",
    "deepnote_cell_type": "markdown",
    "tags": []
   },
   "source": [
    "Finally, we just need to sort the listings in `listings_scored` by their `mean` value (from high to low) and print the top 5. Easy, you've got this! Please use what you've learned before to do this below."
   ]
  },
  {
   "cell_type": "code",
   "execution_count": 32,
   "metadata": {
    "cell_id": "00030-f0ac8274-db95-4bb4-aac8-53714e767555",
    "deepnote_cell_type": "code",
    "deepnote_to_be_reexecuted": false,
    "execution_millis": 39,
    "execution_start": 1633510566163,
    "source_hash": "79003250",
    "tags": []
   },
   "outputs": [
    {
     "data": {
      "text/html": [
       "<div>\n",
       "<style scoped>\n",
       "    .dataframe tbody tr th:only-of-type {\n",
       "        vertical-align: middle;\n",
       "    }\n",
       "\n",
       "    .dataframe tbody tr th {\n",
       "        vertical-align: top;\n",
       "    }\n",
       "\n",
       "    .dataframe thead th {\n",
       "        text-align: right;\n",
       "    }\n",
       "</style>\n",
       "<table border=\"1\" class=\"dataframe\">\n",
       "  <thead>\n",
       "    <tr style=\"text-align: right;\">\n",
       "      <th></th>\n",
       "      <th>listing_id</th>\n",
       "      <th>mean</th>\n",
       "    </tr>\n",
       "  </thead>\n",
       "  <tbody>\n",
       "    <tr>\n",
       "      <th>2158</th>\n",
       "      <td>33510937</td>\n",
       "      <td>0.981160</td>\n",
       "    </tr>\n",
       "    <tr>\n",
       "      <th>2129</th>\n",
       "      <td>32838811</td>\n",
       "      <td>0.978717</td>\n",
       "    </tr>\n",
       "    <tr>\n",
       "      <th>92</th>\n",
       "      <td>957861</td>\n",
       "      <td>0.976250</td>\n",
       "    </tr>\n",
       "    <tr>\n",
       "      <th>1381</th>\n",
       "      <td>23270833</td>\n",
       "      <td>0.973040</td>\n",
       "    </tr>\n",
       "    <tr>\n",
       "      <th>907</th>\n",
       "      <td>17597932</td>\n",
       "      <td>0.971767</td>\n",
       "    </tr>\n",
       "  </tbody>\n",
       "</table>\n",
       "</div>"
      ],
      "text/plain": [
       "      listing_id      mean\n",
       "2158    33510937  0.981160\n",
       "2129    32838811  0.978717\n",
       "92        957861  0.976250\n",
       "1381    23270833  0.973040\n",
       "907     17597932  0.971767"
      ]
     },
     "execution_count": 32,
     "metadata": {},
     "output_type": "execute_result"
    }
   ],
   "source": [
    "# SOLUTION\n",
    "\n"
   ]
  },
  {
   "cell_type": "markdown",
   "metadata": {
    "created_in_deepnote_cell": true,
    "deepnote_cell_type": "markdown",
    "tags": []
   },
   "source": [
    "<a style='text-decoration:none;line-height:16px;display:flex;color:#5B5B62;padding:10px;justify-content:end;' href='https://deepnote.com?utm_source=created-in-deepnote-cell&projectId=2c6f047c-21a6-4149-814c-b3f60a9bf973' target=\"_blank\">\n",
    "<img alt='Created in deepnote.com' style='display:inline;max-height:16px;margin:0px;margin-right:7.5px;' src='data:image/svg+xml;base64,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' > </img>\n",
    "Created in <span style='font-weight:600;margin-left:4px;'>Deepnote</span></a>"
   ]
  }
 ],
 "metadata": {
  "deepnote": {
   "is_reactive": false
  },
  "deepnote_execution_queue": [],
  "deepnote_notebook_id": "2bc253d8-5d82-4e43-b693-93ee90652da4",
  "kernelspec": {
   "display_name": "Python 3 (ipykernel)",
   "language": "python",
   "name": "python3"
  },
  "language_info": {
   "codemirror_mode": {
    "name": "ipython",
    "version": 3
   },
   "file_extension": ".py",
   "mimetype": "text/x-python",
   "name": "python",
   "nbconvert_exporter": "python",
   "pygments_lexer": "ipython3",
   "version": "3.9.8"
  }
 },
 "nbformat": 4,
 "nbformat_minor": 2
}
